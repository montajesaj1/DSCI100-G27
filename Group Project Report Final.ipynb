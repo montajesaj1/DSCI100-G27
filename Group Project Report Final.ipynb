{
 "cells": [
  {
   "cell_type": "markdown",
   "metadata": {
    "datalore": {
     "hide_input_from_viewers": true,
     "hide_output_from_viewers": true,
     "node_id": "fEU79KbQe30VUPlKHy0w3X",
     "type": "MD"
    }
   },
   "source": [
    "<center><h1> DSCI 100: Group Project Report </center></h1>\n",
    "    \n",
    "<center><h3> Group 27: AJ Montajes, Alison, Michael, Haowei </center></h3>\n",
    "\n",
    "<hr>"
   ]
  },
  {
   "cell_type": "markdown",
   "metadata": {
    "tags": []
   },
   "source": [
    "# 1. Introduction\n",
    "\n",
    "Auditing is the examination of businesses financial records to determine if they align with standard accounting laws and principles (Hooda, 2018). Certain factors of a business or firm, such as historical discrepancy between a financial report and an audit inspection can help auditors identify those that are higher risk for fraudulent activity. This dataset contains information about 777 firms, each of which are either classified as “Fraud” or “Non-fraud” firms. In terms of features, we have 27 numeric features one of which is the binary \"Risk\"\".\n",
    "\n",
    "The dataset aims to aid in the auditing process, by providing insight into whether a particular firm is “high risk” (in which case auditors would want to visit the firm) or “low risk” (in which case auditors may skip visiting that firm). Some of the risk factors examined in the dataset include discrepancies in reports, historical discrepancy scores, and amounts of money involved in misstatements. With this dataset, we will implement a K-nearest-neighbors classification model to identify \\\"Fraud\\\" firms from unseen datasets. "
   ]
  },
  {
   "cell_type": "markdown",
   "metadata": {},
   "source": [
    "### 1a. Feature Descriptions\n",
    "\n",
    "| **Inherent risk factors** |                                                                                               | **Control risk factors** |                                                                                     |\n",
    "|-----------------------|-----------------------------------------------------------------------------------------------------|----------------------|-------------------------------------------------------------------------------------------|\n",
    "| **Feature**           | Information                                                                                         | **Feature**          | Information                                                                               |\n",
    "| Para A value          | Discrepancy found in the planned-expenditure of inspection and summary report A in Rs (in crore).   | Sector score         | Historical risk score value of the target-unit in the Table 1 using analytical procedure. |\n",
    "| Para B value          | Discrepancy found in the unplanned-expenditure of inspection and summary report B in Rs (in crore). | Loss                 | Amount of loss suffered by the firm last year.                                            |\n",
    "| Total                 | Total amount of discrepancy found in other reports Rs (in crore).                                   | History              | Average historical loss suffered by firm in the last 10¬†years.                           |\n",
    "| Numbers                | Historical discrepancy score.                                                                       | District loss      | Historical risk score of a district in the last 10¬†years.                                |\n",
    "| Money value           | Amount of money involved in misstatements in the past audits.                                       |                      |                                                                                           |\n",
    "\n",
    "\n",
    "| **Other features**    |                                                                                                     |                      |                                                                                           |\n",
    "|-----------------------|-----------------------------------------------------------------------------------------------------|----------------------|-------------------------------------------------------------------------------------------|\n",
    "| **Feature**           | Information                                                                                         | **Feature**          | Information                                                                               |\n",
    "| Sector ID             | Unique ID of the target sector.                                                                     | Location ID          | Unique ID of the city/province.                                                           |\n",
    "| ARS                   | Total risk score using analytical procedure.                                                        |              |                                           |\n",
    "| Risk class            | Risk Class assigned to an audit-case. (Target Feature) [0 = non-fraud, 1 = fraud]                                              |                      |                                                                                           |\n",
    "\n",
    "Regarding datatypes, we have a mostly numeric features in our dataset, some of which (like our proposed target feature) are implicitly categorical. Throughout this report we will make it clear to the reader when and why we change the datatypes of our features\n",
    "\n",
    "**Note.** The \\\"Inherent_Risk\\\" and \\\"Control_risk\\\" factors are the aggregated sums of the factors in the categories above."
   ]
  },
  {
   "cell_type": "markdown",
   "metadata": {},
   "source": [
    "We will use the K-nearest neighbour algorithm to build the classifier for our data. We want to find the number of neighbours that will give us the most accurate classification results. By first splitting the data into a training set and a test set, we can then split the training data into a sub training set and a validation set to perform a cross validation. Following this we will create a recipe, selecting Risk as our target class and Total, Inherent Risk, Money Value, History, Score Variables/Values and Location ID as our predictors. When creating our model using the KNN algorithm, we will set neighbours = tune() so that our cross validation can calculate an accuracy for multiple values of K. We will combine this model with the recipe into a workflow to train the classifier, then visualize the results (which number of neighbours is appropriate) by plotting the accuracy estimates against the number of neighbors. When building our KNN classifier for the dataset, we will use the number of neighbours will give us the most accurate predictions. \n",
    "\n",
    "### 1b. Predictive Question\n",
    "How accurately can we classify the risk of firms using Total, Inherent Risk, Money Value, History, Score Variables/Values and Location ID as predictors?\n",
    "\n",
    "### 1c. Predictor Justification\n",
    "**Total:** Increase in total may indicate a higher chance involve in a fraudulent activity or misstatement.\n",
    "**Inherent Risk:** Higher inherent risk meaning there is a higher inconsistencies in the past activities.\n",
    "**Money value:** The amount of money encounter in the misstatement. Higher money value means more significant financial discrepancies.\n",
    "**History:** The history of a firm’s loss in the past 10 years. A higher history score could increase the risk assessment.\n",
    "**Score Variables/Values:** These scores and values provide accessibility to the overall risk instead of only measuring the financial discrepancies.\n",
    "**Location ID:** To track the specific location of firm accurately.\n",
    "\n",
    "The predictors above considered wide range of risks including financial discrepancies, historical activities, analyzed scores, and location. It covered various types of risks, so these are strong predictors"
   ]
  },
  {
   "cell_type": "markdown",
   "metadata": {
    "datalore": {
     "hide_input_from_viewers": true,
     "hide_output_from_viewers": true,
     "node_id": "LMI8NBq4QOo4pfp1ZnhwA9",
     "type": "MD"
    }
   },
   "source": [
    "### 1d. Expected Outcomes and Significance "
   ]
  },
  {
   "cell_type": "markdown",
   "metadata": {},
   "source": [
    "From our work, we expect to find that Total, Inherent Risk, Money Value, History, Score Variables/Values and Location ID are strong predictors of whether or not a firm is fraudulent. \n",
    "We expect to find a method to accurately classify the unclassified firms as fraudulent or non-fraudulent firms. Our findings will reduce the workload for auditors by helping them easily classify firms into risky or non-risky, making their auditing process more efficient. Our findings may also reveal which factors are the most important to predicting the riskiness of various businesses and firms. Furthermore, our findings could help provide a guideline for companies to be audited on what activities and processes to avoid. \n",
    "\n",
    "Future work could also be done into classifying firms in good financial health and whether or not fraudulent activities are correlated with a firm's financial health. Another future question we could answer is whether or not these findings hold outside of India. Are the predictors that we used here equally effective in say the USA or Canada?"
   ]
  },
  {
   "cell_type": "markdown",
   "metadata": {},
   "source": [
    "References: \n",
    "Audit data. UCI Machine Learning Repository. (n.d.). https://archive.ics.uci.edu/dataset/475/audit+data \n",
    "\n",
    "Hooda, N., Bawa, S., &amp; Rana, P. S. (2018). Fraudulent firm classification: A case study of an external audit. Applied Artificial Intelligence, 32(1), 48–64. https://doi.org/10.1080/08839514.2018.1451032 "
   ]
  },
  {
   "cell_type": "markdown",
   "metadata": {
    "tags": []
   },
   "source": [
    "<br>\n",
    "<hr>"
   ]
  },
  {
   "cell_type": "markdown",
   "metadata": {},
   "source": [
    "# 2. Methods and Results"
   ]
  },
  {
   "cell_type": "markdown",
   "metadata": {},
   "source": [
    "## 2.a Loading Libraries\n",
    "Throughout out this project, we will be employing the same libraries used in lectures."
   ]
  },
  {
   "cell_type": "code",
   "execution_count": 1,
   "metadata": {
    "collapsed": false,
    "datalore": {
     "hide_input_from_viewers": true,
     "hide_output_from_viewers": true,
     "node_id": "RqSSpC8YMDYXA0AGtFSzue",
     "type": "CODE"
    },
    "is_executing": true,
    "jupyter": {
     "outputs_hidden": false
    },
    "tags": []
   },
   "outputs": [
    {
     "name": "stderr",
     "output_type": "stream",
     "text": [
      "── \u001b[1mAttaching core tidyverse packages\u001b[22m ──────────────────────── tidyverse 2.0.0 ──\n",
      "\u001b[32m✔\u001b[39m \u001b[34mdplyr    \u001b[39m 1.1.3     \u001b[32m✔\u001b[39m \u001b[34mreadr    \u001b[39m 2.1.4\n",
      "\u001b[32m✔\u001b[39m \u001b[34mforcats  \u001b[39m 1.0.0     \u001b[32m✔\u001b[39m \u001b[34mstringr  \u001b[39m 1.5.0\n",
      "\u001b[32m✔\u001b[39m \u001b[34mggplot2  \u001b[39m 3.4.4     \u001b[32m✔\u001b[39m \u001b[34mtibble   \u001b[39m 3.2.1\n",
      "\u001b[32m✔\u001b[39m \u001b[34mlubridate\u001b[39m 1.9.3     \u001b[32m✔\u001b[39m \u001b[34mtidyr    \u001b[39m 1.3.0\n",
      "\u001b[32m✔\u001b[39m \u001b[34mpurrr    \u001b[39m 1.0.2     \n",
      "── \u001b[1mConflicts\u001b[22m ────────────────────────────────────────── tidyverse_conflicts() ──\n",
      "\u001b[31m✖\u001b[39m \u001b[34mdplyr\u001b[39m::\u001b[32mfilter()\u001b[39m masks \u001b[34mstats\u001b[39m::filter()\n",
      "\u001b[31m✖\u001b[39m \u001b[34mdplyr\u001b[39m::\u001b[32mlag()\u001b[39m    masks \u001b[34mstats\u001b[39m::lag()\n",
      "\u001b[36mℹ\u001b[39m Use the conflicted package (\u001b[3m\u001b[34m<http://conflicted.r-lib.org/>\u001b[39m\u001b[23m) to force all conflicts to become errors\n",
      "── \u001b[1mAttaching packages\u001b[22m ────────────────────────────────────── tidymodels 1.1.1 ──\n",
      "\n",
      "\u001b[32m✔\u001b[39m \u001b[34mbroom       \u001b[39m 1.0.5     \u001b[32m✔\u001b[39m \u001b[34mrsample     \u001b[39m 1.2.0\n",
      "\u001b[32m✔\u001b[39m \u001b[34mdials       \u001b[39m 1.2.0     \u001b[32m✔\u001b[39m \u001b[34mtune        \u001b[39m 1.1.2\n",
      "\u001b[32m✔\u001b[39m \u001b[34minfer       \u001b[39m 1.0.5     \u001b[32m✔\u001b[39m \u001b[34mworkflows   \u001b[39m 1.1.3\n",
      "\u001b[32m✔\u001b[39m \u001b[34mmodeldata   \u001b[39m 1.2.0     \u001b[32m✔\u001b[39m \u001b[34mworkflowsets\u001b[39m 1.0.1\n",
      "\u001b[32m✔\u001b[39m \u001b[34mparsnip     \u001b[39m 1.1.1     \u001b[32m✔\u001b[39m \u001b[34myardstick   \u001b[39m 1.2.0\n",
      "\u001b[32m✔\u001b[39m \u001b[34mrecipes     \u001b[39m 1.0.8     \n",
      "\n",
      "── \u001b[1mConflicts\u001b[22m ───────────────────────────────────────── tidymodels_conflicts() ──\n",
      "\u001b[31m✖\u001b[39m \u001b[34mscales\u001b[39m::\u001b[32mdiscard()\u001b[39m masks \u001b[34mpurrr\u001b[39m::discard()\n",
      "\u001b[31m✖\u001b[39m \u001b[34mdplyr\u001b[39m::\u001b[32mfilter()\u001b[39m   masks \u001b[34mstats\u001b[39m::filter()\n",
      "\u001b[31m✖\u001b[39m \u001b[34mrecipes\u001b[39m::\u001b[32mfixed()\u001b[39m  masks \u001b[34mstringr\u001b[39m::fixed()\n",
      "\u001b[31m✖\u001b[39m \u001b[34mdplyr\u001b[39m::\u001b[32mlag()\u001b[39m      masks \u001b[34mstats\u001b[39m::lag()\n",
      "\u001b[31m✖\u001b[39m \u001b[34myardstick\u001b[39m::\u001b[32mspec()\u001b[39m masks \u001b[34mreadr\u001b[39m::spec()\n",
      "\u001b[31m✖\u001b[39m \u001b[34mrecipes\u001b[39m::\u001b[32mstep()\u001b[39m   masks \u001b[34mstats\u001b[39m::step()\n",
      "\u001b[34m•\u001b[39m Search for functions across packages at \u001b[32mhttps://www.tidymodels.org/find/\u001b[39m\n",
      "\n",
      "\n",
      "Attaching package: ‘gridExtra’\n",
      "\n",
      "\n",
      "The following object is masked from ‘package:dplyr’:\n",
      "\n",
      "    combine\n",
      "\n",
      "\n"
     ]
    }
   ],
   "source": [
    "library(tidyverse)\n",
    "library(repr)\n",
    "library(tidymodels)\n",
    "library(gridExtra)\n",
    "options(repr.matrix.max.rows = 6)"
   ]
  },
  {
   "cell_type": "markdown",
   "metadata": {
    "datalore": {
     "hide_input_from_viewers": true,
     "hide_output_from_viewers": true,
     "node_id": "TJ3ujE2qIVRnwcgNcKiDR3",
     "type": "MD"
    }
   },
   "source": [
    "### 2b. Reading Data & Reproducibility\n",
    "Here we set our seed so that all psuedorandom functionalities are reproducible. We also read our risk dataset from our github repo using `read_csv`."
   ]
  },
  {
   "cell_type": "code",
   "execution_count": 2,
   "metadata": {
    "collapsed": false,
    "datalore": {
     "hide_input_from_viewers": true,
     "hide_output_from_viewers": true,
     "node_id": "arcoO8ygL1jTE4qGnY6KoN",
     "type": "CODE"
    },
    "is_executing": true,
    "jupyter": {
     "outputs_hidden": false
    },
    "tags": []
   },
   "outputs": [
    {
     "name": "stderr",
     "output_type": "stream",
     "text": [
      "\u001b[1m\u001b[22mNew names:\n",
      "\u001b[36m•\u001b[39m `Score_B` -> `Score_B...7`\n",
      "\u001b[36m•\u001b[39m `Score_B` -> `Score_B...11`\n",
      "\u001b[1mRows: \u001b[22m\u001b[34m776\u001b[39m \u001b[1mColumns: \u001b[22m\u001b[34m27\u001b[39m\n",
      "\u001b[36m──\u001b[39m \u001b[1mColumn specification\u001b[22m \u001b[36m────────────────────────────────────────────────────────\u001b[39m\n",
      "\u001b[1mDelimiter:\u001b[22m \",\"\n",
      "\u001b[31mchr\u001b[39m  (1): LOCATION_ID\n",
      "\u001b[32mdbl\u001b[39m (26): Sector_score, PARA_A, Score_A, Risk_A, PARA_B, Score_B...7, Risk_B...\n",
      "\n",
      "\u001b[36mℹ\u001b[39m Use `spec()` to retrieve the full column specification for this data.\n",
      "\u001b[36mℹ\u001b[39m Specify the column types or set `show_col_types = FALSE` to quiet this message.\n"
     ]
    },
    {
     "data": {
      "text/html": [
       "<table class=\"dataframe\">\n",
       "<caption>A tibble: 6 × 27</caption>\n",
       "<thead>\n",
       "\t<tr><th scope=col>Sector_score</th><th scope=col>LOCATION_ID</th><th scope=col>PARA_A</th><th scope=col>Score_A</th><th scope=col>Risk_A</th><th scope=col>PARA_B</th><th scope=col>Score_B...7</th><th scope=col>Risk_B</th><th scope=col>TOTAL</th><th scope=col>numbers</th><th scope=col>⋯</th><th scope=col>RiSk_E</th><th scope=col>History</th><th scope=col>Prob</th><th scope=col>Risk_F</th><th scope=col>Score</th><th scope=col>Inherent_Risk</th><th scope=col>CONTROL_RISK</th><th scope=col>Detection_Risk</th><th scope=col>Audit_Risk</th><th scope=col>Risk</th></tr>\n",
       "\t<tr><th scope=col>&lt;dbl&gt;</th><th scope=col>&lt;chr&gt;</th><th scope=col>&lt;dbl&gt;</th><th scope=col>&lt;dbl&gt;</th><th scope=col>&lt;dbl&gt;</th><th scope=col>&lt;dbl&gt;</th><th scope=col>&lt;dbl&gt;</th><th scope=col>&lt;dbl&gt;</th><th scope=col>&lt;dbl&gt;</th><th scope=col>&lt;dbl&gt;</th><th scope=col>⋯</th><th scope=col>&lt;dbl&gt;</th><th scope=col>&lt;dbl&gt;</th><th scope=col>&lt;dbl&gt;</th><th scope=col>&lt;dbl&gt;</th><th scope=col>&lt;dbl&gt;</th><th scope=col>&lt;dbl&gt;</th><th scope=col>&lt;dbl&gt;</th><th scope=col>&lt;dbl&gt;</th><th scope=col>&lt;dbl&gt;</th><th scope=col>&lt;dbl&gt;</th></tr>\n",
       "</thead>\n",
       "<tbody>\n",
       "\t<tr><td>3.89</td><td>23</td><td>4.18</td><td>0.6</td><td>2.508</td><td> 2.50</td><td>0.2</td><td>0.500</td><td> 6.68</td><td>5</td><td>⋯</td><td>0.4</td><td>0</td><td>0.2</td><td>0</td><td>2.4</td><td> 8.574</td><td>0.4</td><td>0.5</td><td>1.7148</td><td>1</td></tr>\n",
       "\t<tr><td>3.89</td><td>6 </td><td>0.00</td><td>0.2</td><td>0.000</td><td> 4.83</td><td>0.2</td><td>0.966</td><td> 4.83</td><td>5</td><td>⋯</td><td>0.4</td><td>0</td><td>0.2</td><td>0</td><td>2.0</td><td> 2.554</td><td>0.4</td><td>0.5</td><td>0.5108</td><td>0</td></tr>\n",
       "\t<tr><td>3.89</td><td>6 </td><td>0.51</td><td>0.2</td><td>0.102</td><td> 0.23</td><td>0.2</td><td>0.046</td><td> 0.74</td><td>5</td><td>⋯</td><td>0.4</td><td>0</td><td>0.2</td><td>0</td><td>2.0</td><td> 1.548</td><td>0.4</td><td>0.5</td><td>0.3096</td><td>0</td></tr>\n",
       "\t<tr><td>3.89</td><td>6 </td><td>0.00</td><td>0.2</td><td>0.000</td><td>10.80</td><td>0.6</td><td>6.480</td><td>10.80</td><td>6</td><td>⋯</td><td>0.4</td><td>0</td><td>0.2</td><td>0</td><td>4.4</td><td>17.530</td><td>0.4</td><td>0.5</td><td>3.5060</td><td>1</td></tr>\n",
       "\t<tr><td>3.89</td><td>6 </td><td>0.00</td><td>0.2</td><td>0.000</td><td> 0.08</td><td>0.2</td><td>0.016</td><td> 0.08</td><td>5</td><td>⋯</td><td>0.4</td><td>0</td><td>0.2</td><td>0</td><td>2.0</td><td> 1.416</td><td>0.4</td><td>0.5</td><td>0.2832</td><td>0</td></tr>\n",
       "\t<tr><td>3.89</td><td>6 </td><td>0.00</td><td>0.2</td><td>0.000</td><td> 0.83</td><td>0.2</td><td>0.166</td><td> 0.83</td><td>5</td><td>⋯</td><td>0.4</td><td>0</td><td>0.2</td><td>0</td><td>2.0</td><td> 2.156</td><td>0.4</td><td>0.5</td><td>0.4312</td><td>0</td></tr>\n",
       "</tbody>\n",
       "</table>\n"
      ],
      "text/latex": [
       "A tibble: 6 × 27\n",
       "\\begin{tabular}{lllllllllllllllllllll}\n",
       " Sector\\_score & LOCATION\\_ID & PARA\\_A & Score\\_A & Risk\\_A & PARA\\_B & Score\\_B...7 & Risk\\_B & TOTAL & numbers & ⋯ & RiSk\\_E & History & Prob & Risk\\_F & Score & Inherent\\_Risk & CONTROL\\_RISK & Detection\\_Risk & Audit\\_Risk & Risk\\\\\n",
       " <dbl> & <chr> & <dbl> & <dbl> & <dbl> & <dbl> & <dbl> & <dbl> & <dbl> & <dbl> & ⋯ & <dbl> & <dbl> & <dbl> & <dbl> & <dbl> & <dbl> & <dbl> & <dbl> & <dbl> & <dbl>\\\\\n",
       "\\hline\n",
       "\t 3.89 & 23 & 4.18 & 0.6 & 2.508 &  2.50 & 0.2 & 0.500 &  6.68 & 5 & ⋯ & 0.4 & 0 & 0.2 & 0 & 2.4 &  8.574 & 0.4 & 0.5 & 1.7148 & 1\\\\\n",
       "\t 3.89 & 6  & 0.00 & 0.2 & 0.000 &  4.83 & 0.2 & 0.966 &  4.83 & 5 & ⋯ & 0.4 & 0 & 0.2 & 0 & 2.0 &  2.554 & 0.4 & 0.5 & 0.5108 & 0\\\\\n",
       "\t 3.89 & 6  & 0.51 & 0.2 & 0.102 &  0.23 & 0.2 & 0.046 &  0.74 & 5 & ⋯ & 0.4 & 0 & 0.2 & 0 & 2.0 &  1.548 & 0.4 & 0.5 & 0.3096 & 0\\\\\n",
       "\t 3.89 & 6  & 0.00 & 0.2 & 0.000 & 10.80 & 0.6 & 6.480 & 10.80 & 6 & ⋯ & 0.4 & 0 & 0.2 & 0 & 4.4 & 17.530 & 0.4 & 0.5 & 3.5060 & 1\\\\\n",
       "\t 3.89 & 6  & 0.00 & 0.2 & 0.000 &  0.08 & 0.2 & 0.016 &  0.08 & 5 & ⋯ & 0.4 & 0 & 0.2 & 0 & 2.0 &  1.416 & 0.4 & 0.5 & 0.2832 & 0\\\\\n",
       "\t 3.89 & 6  & 0.00 & 0.2 & 0.000 &  0.83 & 0.2 & 0.166 &  0.83 & 5 & ⋯ & 0.4 & 0 & 0.2 & 0 & 2.0 &  2.156 & 0.4 & 0.5 & 0.4312 & 0\\\\\n",
       "\\end{tabular}\n"
      ],
      "text/markdown": [
       "\n",
       "A tibble: 6 × 27\n",
       "\n",
       "| Sector_score &lt;dbl&gt; | LOCATION_ID &lt;chr&gt; | PARA_A &lt;dbl&gt; | Score_A &lt;dbl&gt; | Risk_A &lt;dbl&gt; | PARA_B &lt;dbl&gt; | Score_B...7 &lt;dbl&gt; | Risk_B &lt;dbl&gt; | TOTAL &lt;dbl&gt; | numbers &lt;dbl&gt; | ⋯ ⋯ | RiSk_E &lt;dbl&gt; | History &lt;dbl&gt; | Prob &lt;dbl&gt; | Risk_F &lt;dbl&gt; | Score &lt;dbl&gt; | Inherent_Risk &lt;dbl&gt; | CONTROL_RISK &lt;dbl&gt; | Detection_Risk &lt;dbl&gt; | Audit_Risk &lt;dbl&gt; | Risk &lt;dbl&gt; |\n",
       "|---|---|---|---|---|---|---|---|---|---|---|---|---|---|---|---|---|---|---|---|---|\n",
       "| 3.89 | 23 | 4.18 | 0.6 | 2.508 |  2.50 | 0.2 | 0.500 |  6.68 | 5 | ⋯ | 0.4 | 0 | 0.2 | 0 | 2.4 |  8.574 | 0.4 | 0.5 | 1.7148 | 1 |\n",
       "| 3.89 | 6  | 0.00 | 0.2 | 0.000 |  4.83 | 0.2 | 0.966 |  4.83 | 5 | ⋯ | 0.4 | 0 | 0.2 | 0 | 2.0 |  2.554 | 0.4 | 0.5 | 0.5108 | 0 |\n",
       "| 3.89 | 6  | 0.51 | 0.2 | 0.102 |  0.23 | 0.2 | 0.046 |  0.74 | 5 | ⋯ | 0.4 | 0 | 0.2 | 0 | 2.0 |  1.548 | 0.4 | 0.5 | 0.3096 | 0 |\n",
       "| 3.89 | 6  | 0.00 | 0.2 | 0.000 | 10.80 | 0.6 | 6.480 | 10.80 | 6 | ⋯ | 0.4 | 0 | 0.2 | 0 | 4.4 | 17.530 | 0.4 | 0.5 | 3.5060 | 1 |\n",
       "| 3.89 | 6  | 0.00 | 0.2 | 0.000 |  0.08 | 0.2 | 0.016 |  0.08 | 5 | ⋯ | 0.4 | 0 | 0.2 | 0 | 2.0 |  1.416 | 0.4 | 0.5 | 0.2832 | 0 |\n",
       "| 3.89 | 6  | 0.00 | 0.2 | 0.000 |  0.83 | 0.2 | 0.166 |  0.83 | 5 | ⋯ | 0.4 | 0 | 0.2 | 0 | 2.0 |  2.156 | 0.4 | 0.5 | 0.4312 | 0 |\n",
       "\n"
      ],
      "text/plain": [
       "  Sector_score LOCATION_ID PARA_A Score_A Risk_A PARA_B Score_B...7 Risk_B\n",
       "1 3.89         23          4.18   0.6     2.508   2.50  0.2         0.500 \n",
       "2 3.89         6           0.00   0.2     0.000   4.83  0.2         0.966 \n",
       "3 3.89         6           0.51   0.2     0.102   0.23  0.2         0.046 \n",
       "4 3.89         6           0.00   0.2     0.000  10.80  0.6         6.480 \n",
       "5 3.89         6           0.00   0.2     0.000   0.08  0.2         0.016 \n",
       "6 3.89         6           0.00   0.2     0.000   0.83  0.2         0.166 \n",
       "  TOTAL numbers ⋯ RiSk_E History Prob Risk_F Score Inherent_Risk CONTROL_RISK\n",
       "1  6.68 5       ⋯ 0.4    0       0.2  0      2.4    8.574        0.4         \n",
       "2  4.83 5       ⋯ 0.4    0       0.2  0      2.0    2.554        0.4         \n",
       "3  0.74 5       ⋯ 0.4    0       0.2  0      2.0    1.548        0.4         \n",
       "4 10.80 6       ⋯ 0.4    0       0.2  0      4.4   17.530        0.4         \n",
       "5  0.08 5       ⋯ 0.4    0       0.2  0      2.0    1.416        0.4         \n",
       "6  0.83 5       ⋯ 0.4    0       0.2  0      2.0    2.156        0.4         \n",
       "  Detection_Risk Audit_Risk Risk\n",
       "1 0.5            1.7148     1   \n",
       "2 0.5            0.5108     0   \n",
       "3 0.5            0.3096     0   \n",
       "4 0.5            3.5060     1   \n",
       "5 0.5            0.2832     0   \n",
       "6 0.5            0.4312     0   "
      ]
     },
     "metadata": {},
     "output_type": "display_data"
    }
   ],
   "source": [
    "set.seed(234)\n",
    "audit <- read_csv(\"https://raw.githubusercontent.com/montajesaj1/DSCI100-G27/main/audit_data/audit_risk.csv\") \n",
    "head(audit)"
   ]
  },
  {
   "cell_type": "markdown",
   "metadata": {},
   "source": [
    "### 2c. Tidying the Data and Changing Data-types\n",
    "Since we have identified the `Risk` feature as our target, we want to change it's datatype to factor and perhaps the 1's and 0's to classes that are more meaningful. Lets call them \"fraud\" and \"non-fraud\". \n",
    "\n",
    "We also notice that there are many features with 27 in total, many of which share some relationships. Every feature beginning with `PARA_` refers to measures of discrepancy, `Score_` for some score variable. and `Risk_` to some risk variable. Therefore, we can tidy up this data set with several `pivot_longer` transformations."
   ]
  },
  {
   "cell_type": "code",
   "execution_count": 4,
   "metadata": {
    "tags": []
   },
   "outputs": [
    {
     "name": "stderr",
     "output_type": "stream",
     "text": [
      "Warning message:\n",
      "“\u001b[1m\u001b[22mThere was 1 warning in `mutate()`.\n",
      "\u001b[1m\u001b[22m\u001b[36mℹ\u001b[39m In argument: `Risk = fct_recode(Risk, Fraud = \"1\", `Non-fraud` = \"0\")`.\n",
      "Caused by warning:\n",
      "\u001b[33m!\u001b[39m Unknown levels in `f`: 1, 0”\n"
     ]
    },
    {
     "data": {
      "text/html": [
       "<table class=\"dataframe\">\n",
       "<caption>A tibble: 6 × 15</caption>\n",
       "<thead>\n",
       "\t<tr><th scope=col>Sector_score</th><th scope=col>LOCATION_ID</th><th scope=col>TOTAL</th><th scope=col>numbers</th><th scope=col>Money_Value</th><th scope=col>District_Loss</th><th scope=col>PROB</th><th scope=col>History</th><th scope=col>Prob</th><th scope=col>Score</th><th scope=col>Inherent_Risk</th><th scope=col>CONTROL_RISK</th><th scope=col>Detection_Risk</th><th scope=col>Audit_Risk</th><th scope=col>Risk</th></tr>\n",
       "\t<tr><th scope=col>&lt;dbl&gt;</th><th scope=col>&lt;fct&gt;</th><th scope=col>&lt;dbl&gt;</th><th scope=col>&lt;dbl&gt;</th><th scope=col>&lt;dbl&gt;</th><th scope=col>&lt;dbl&gt;</th><th scope=col>&lt;dbl&gt;</th><th scope=col>&lt;dbl&gt;</th><th scope=col>&lt;dbl&gt;</th><th scope=col>&lt;dbl&gt;</th><th scope=col>&lt;dbl&gt;</th><th scope=col>&lt;dbl&gt;</th><th scope=col>&lt;dbl&gt;</th><th scope=col>&lt;dbl&gt;</th><th scope=col>&lt;fct&gt;</th></tr>\n",
       "</thead>\n",
       "<tbody>\n",
       "\t<tr><td>3.89</td><td>23</td><td> 6.68</td><td>5</td><td> 3.38</td><td>2</td><td>0.2</td><td>0</td><td>0.2</td><td>2.4</td><td> 8.574</td><td>0.4</td><td>0.5</td><td>1.7148</td><td>Fraud    </td></tr>\n",
       "\t<tr><td>3.89</td><td>6 </td><td> 4.83</td><td>5</td><td> 0.94</td><td>2</td><td>0.2</td><td>0</td><td>0.2</td><td>2.0</td><td> 2.554</td><td>0.4</td><td>0.5</td><td>0.5108</td><td>Non-fraud</td></tr>\n",
       "\t<tr><td>3.89</td><td>6 </td><td> 0.74</td><td>5</td><td> 0.00</td><td>2</td><td>0.2</td><td>0</td><td>0.2</td><td>2.0</td><td> 1.548</td><td>0.4</td><td>0.5</td><td>0.3096</td><td>Non-fraud</td></tr>\n",
       "\t<tr><td>3.89</td><td>6 </td><td>10.80</td><td>6</td><td>11.75</td><td>2</td><td>0.2</td><td>0</td><td>0.2</td><td>4.4</td><td>17.530</td><td>0.4</td><td>0.5</td><td>3.5060</td><td>Fraud    </td></tr>\n",
       "\t<tr><td>3.89</td><td>6 </td><td> 0.08</td><td>5</td><td> 0.00</td><td>2</td><td>0.2</td><td>0</td><td>0.2</td><td>2.0</td><td> 1.416</td><td>0.4</td><td>0.5</td><td>0.2832</td><td>Non-fraud</td></tr>\n",
       "\t<tr><td>3.89</td><td>6 </td><td> 0.83</td><td>5</td><td> 2.95</td><td>2</td><td>0.2</td><td>0</td><td>0.2</td><td>2.0</td><td> 2.156</td><td>0.4</td><td>0.5</td><td>0.4312</td><td>Non-fraud</td></tr>\n",
       "</tbody>\n",
       "</table>\n"
      ],
      "text/latex": [
       "A tibble: 6 × 15\n",
       "\\begin{tabular}{lllllllllllllll}\n",
       " Sector\\_score & LOCATION\\_ID & TOTAL & numbers & Money\\_Value & District\\_Loss & PROB & History & Prob & Score & Inherent\\_Risk & CONTROL\\_RISK & Detection\\_Risk & Audit\\_Risk & Risk\\\\\n",
       " <dbl> & <fct> & <dbl> & <dbl> & <dbl> & <dbl> & <dbl> & <dbl> & <dbl> & <dbl> & <dbl> & <dbl> & <dbl> & <dbl> & <fct>\\\\\n",
       "\\hline\n",
       "\t 3.89 & 23 &  6.68 & 5 &  3.38 & 2 & 0.2 & 0 & 0.2 & 2.4 &  8.574 & 0.4 & 0.5 & 1.7148 & Fraud    \\\\\n",
       "\t 3.89 & 6  &  4.83 & 5 &  0.94 & 2 & 0.2 & 0 & 0.2 & 2.0 &  2.554 & 0.4 & 0.5 & 0.5108 & Non-fraud\\\\\n",
       "\t 3.89 & 6  &  0.74 & 5 &  0.00 & 2 & 0.2 & 0 & 0.2 & 2.0 &  1.548 & 0.4 & 0.5 & 0.3096 & Non-fraud\\\\\n",
       "\t 3.89 & 6  & 10.80 & 6 & 11.75 & 2 & 0.2 & 0 & 0.2 & 4.4 & 17.530 & 0.4 & 0.5 & 3.5060 & Fraud    \\\\\n",
       "\t 3.89 & 6  &  0.08 & 5 &  0.00 & 2 & 0.2 & 0 & 0.2 & 2.0 &  1.416 & 0.4 & 0.5 & 0.2832 & Non-fraud\\\\\n",
       "\t 3.89 & 6  &  0.83 & 5 &  2.95 & 2 & 0.2 & 0 & 0.2 & 2.0 &  2.156 & 0.4 & 0.5 & 0.4312 & Non-fraud\\\\\n",
       "\\end{tabular}\n"
      ],
      "text/markdown": [
       "\n",
       "A tibble: 6 × 15\n",
       "\n",
       "| Sector_score &lt;dbl&gt; | LOCATION_ID &lt;fct&gt; | TOTAL &lt;dbl&gt; | numbers &lt;dbl&gt; | Money_Value &lt;dbl&gt; | District_Loss &lt;dbl&gt; | PROB &lt;dbl&gt; | History &lt;dbl&gt; | Prob &lt;dbl&gt; | Score &lt;dbl&gt; | Inherent_Risk &lt;dbl&gt; | CONTROL_RISK &lt;dbl&gt; | Detection_Risk &lt;dbl&gt; | Audit_Risk &lt;dbl&gt; | Risk &lt;fct&gt; |\n",
       "|---|---|---|---|---|---|---|---|---|---|---|---|---|---|---|\n",
       "| 3.89 | 23 |  6.68 | 5 |  3.38 | 2 | 0.2 | 0 | 0.2 | 2.4 |  8.574 | 0.4 | 0.5 | 1.7148 | Fraud     |\n",
       "| 3.89 | 6  |  4.83 | 5 |  0.94 | 2 | 0.2 | 0 | 0.2 | 2.0 |  2.554 | 0.4 | 0.5 | 0.5108 | Non-fraud |\n",
       "| 3.89 | 6  |  0.74 | 5 |  0.00 | 2 | 0.2 | 0 | 0.2 | 2.0 |  1.548 | 0.4 | 0.5 | 0.3096 | Non-fraud |\n",
       "| 3.89 | 6  | 10.80 | 6 | 11.75 | 2 | 0.2 | 0 | 0.2 | 4.4 | 17.530 | 0.4 | 0.5 | 3.5060 | Fraud     |\n",
       "| 3.89 | 6  |  0.08 | 5 |  0.00 | 2 | 0.2 | 0 | 0.2 | 2.0 |  1.416 | 0.4 | 0.5 | 0.2832 | Non-fraud |\n",
       "| 3.89 | 6  |  0.83 | 5 |  2.95 | 2 | 0.2 | 0 | 0.2 | 2.0 |  2.156 | 0.4 | 0.5 | 0.4312 | Non-fraud |\n",
       "\n"
      ],
      "text/plain": [
       "  Sector_score LOCATION_ID TOTAL numbers Money_Value District_Loss PROB History\n",
       "1 3.89         23           6.68 5        3.38       2             0.2  0      \n",
       "2 3.89         6            4.83 5        0.94       2             0.2  0      \n",
       "3 3.89         6            0.74 5        0.00       2             0.2  0      \n",
       "4 3.89         6           10.80 6       11.75       2             0.2  0      \n",
       "5 3.89         6            0.08 5        0.00       2             0.2  0      \n",
       "6 3.89         6            0.83 5        2.95       2             0.2  0      \n",
       "  Prob Score Inherent_Risk CONTROL_RISK Detection_Risk Audit_Risk Risk     \n",
       "1 0.2  2.4    8.574        0.4          0.5            1.7148     Fraud    \n",
       "2 0.2  2.0    2.554        0.4          0.5            0.5108     Non-fraud\n",
       "3 0.2  2.0    1.548        0.4          0.5            0.3096     Non-fraud\n",
       "4 0.2  4.4   17.530        0.4          0.5            3.5060     Fraud    \n",
       "5 0.2  2.0    1.416        0.4          0.5            0.2832     Non-fraud\n",
       "6 0.2  2.0    2.156        0.4          0.5            0.4312     Non-fraud"
      ]
     },
     "metadata": {},
     "output_type": "display_data"
    }
   ],
   "source": [
    "audit <- audit |> mutate(Risk = as.factor(Risk), LOCATION_ID = as.factor(LOCATION_ID)) |>\n",
    "    mutate(Risk = fct_recode(Risk, \"Fraud\" = \"1\", \"Non-fraud\" = \"0\"))\n",
    "\n",
    "audit_tidy <- audit |> \n",
    "    select(-(starts_with(\"PARA_\"))) |>\n",
    "    select(-(starts_with(\"Score_\"))) |> \n",
    "    select(-(starts_with(\"Risk_\"))) |> s\n",
    "\n",
    "# audit_tidy <- audit |>\n",
    "#   pivot_longer(cols = starts_with(\"PARA_\"), names_to = \"discrepancy\", values_to = \"discrepancy_value\") |>\n",
    "#   pivot_longer(cols = starts_with(\"Score_\"), names_to = \"score_variable\", values_to = \"score_value\") |>\n",
    "#   pivot_longer(cols = starts_with(\"Risk_\"), names_to = \"risk_variable\", values_to = \"risk_value\")\n",
    "\n",
    "# audit_tidy_fct <- audit_tidy |>\n",
    "    # mutate(score_variable = as.factor(score_variable))\n",
    "\n",
    "head(audit_tidy)"
   ]
  },
  {
   "cell_type": "markdown",
   "metadata": {},
   "source": [
    "**Note.** new columns `risk_variable` and `risk_value` account for the previous risk variables and their associated scores when tidying the data. Likewise, `discrepancy` and `discrepancy_value` are for the initial PARA features tidied"
   ]
  },
  {
   "cell_type": "markdown",
   "metadata": {
    "tags": []
   },
   "source": [
    "### 2d. Exploratory Data Analysis\n",
    "### Summary Tables"
   ]
  },
  {
   "cell_type": "markdown",
   "metadata": {},
   "source": [
    "#### **Table 1:** Comparing counts for each class of the Target Feature\n",
    "The table allows us to check if there are imbalances in class, which may effect the accuracy of the prediction."
   ]
  },
  {
   "cell_type": "code",
   "execution_count": null,
   "metadata": {
    "tags": []
   },
   "outputs": [],
   "source": [
    "table_1 <- audit_tidy |>\n",
    "    group_by(Risk) |>\n",
    "    summarize(Count = n())\n",
    "\n",
    "table_1"
   ]
  },
  {
   "cell_type": "markdown",
   "metadata": {},
   "source": [
    "#### **Table 2/3:** Summary Statistics on all Features and Missing Value Counts\n",
    "Table 2: displays the descriptive statistics for all our numerical features whereas Table 3: displays the missing values in our dataset. In this case, we are only missing values for \"money_value\".\n",
    "\n",
    "Something important to note is that there is a mild degree of class imbalance for our target feature. Below we can see that the number of Non-fradulent firms is 22,608, whereas the number of fradulent firms is 14,640 which means that our fraudulent firm class only accounts for 40% of all firms. This is something we will have to bear in mind when employing evaluation metrics down the road."
   ]
  },
  {
   "cell_type": "code",
   "execution_count": null,
   "metadata": {},
   "outputs": [],
   "source": [
    "summary <- audit_tidy |>\n",
    "    summary()\n",
    "summary"
   ]
  },
  {
   "cell_type": "code",
   "execution_count": null,
   "metadata": {
    "tags": []
   },
   "outputs": [],
   "source": [
    "missing_values_counts <- audit_tidy |>\n",
    "  select(where(~any(is.na(.)))) |>\n",
    "  summarise(across(everything(), ~sum(is.na(.)), .names = \"missing_count_{.col}\"))\n",
    "\n",
    "missing_values_counts"
   ]
  },
  {
   "cell_type": "markdown",
   "metadata": {},
   "source": [
    "**Note.** There is only one feature missing values `Money_value` "
   ]
  },
  {
   "cell_type": "markdown",
   "metadata": {},
   "source": [
    "### 2.e Investigative Plots"
   ]
  },
  {
   "cell_type": "markdown",
   "metadata": {
    "tags": []
   },
   "source": [
    "#### Plot 1: Scatter Plot [Total vs Inherent Risk]\n",
    "Displays the relationship betweent total discrepancies in reports and inherent risk."
   ]
  },
  {
   "cell_type": "code",
   "execution_count": null,
   "metadata": {
    "collapsed": false,
    "jupyter": {
     "outputs_hidden": false
    },
    "tags": []
   },
   "outputs": [],
   "source": [
    "feature_plot1 <- audit_tidy |> ggplot(aes(x = TOTAL, y = Inherent_Risk, color = Risk)) + geom_point() + scale_x_log10() + scale_y_log10() +\n",
    "    ggtitle('Scatter Plot of Total Report Discrepancy vs Inherent Risk') +\n",
    "    xlab('Total Report Discrepancy') +\n",
    "    ylab('Inherent Risk')\n",
    "\n",
    "feature_plot1"
   ]
  },
  {
   "cell_type": "markdown",
   "metadata": {
    "tags": []
   },
   "source": [
    "#### Plot 2: Scatter Plot [Total vs Money Value]\n",
    "Displays the correlation between total discrepancies in reports and money involved in the misstatement."
   ]
  },
  {
   "cell_type": "code",
   "execution_count": null,
   "metadata": {},
   "outputs": [],
   "source": [
    "feature_plot2 <- ggplot(audit_tidy, aes(x = TOTAL, y = Money_Value)) +\n",
    "  geom_point(aes(color = Risk), alpha = 0.5) +\n",
    "  scale_x_log10() + scale_y_log10() +\n",
    "  ggtitle('Scatter Plot of Total Report Discrepancy vs Money Value') +\n",
    "  xlab('Total Report Discrepancy') +\n",
    "  ylab('Money Value')\n",
    "\n",
    "feature_plot2"
   ]
  },
  {
   "cell_type": "markdown",
   "metadata": {},
   "source": [
    "#### Plot 3: Bar Chart [Location ID total counts showing Risk]\n",
    "Shows the risk associated with firms at a given Location ID."
   ]
  },
  {
   "cell_type": "code",
   "execution_count": null,
   "metadata": {},
   "outputs": [],
   "source": [
    "feature_plot3 <- audit_tidy |>\n",
    "  group_by(LOCATION_ID, Risk) |>\n",
    "  summarise(count = n(), .groups = \"drop\") |>\n",
    "  group_by(LOCATION_ID) |>\n",
    "  summarise(total = sum(count), most_frequent_risk = Risk[which.max(count)]) |>\n",
    "  ungroup() |>\n",
    "  mutate(LOCATION_ID = reorder(LOCATION_ID, -total)) |>\n",
    "  ggplot(aes(y = LOCATION_ID, x = total, fill = most_frequent_risk)) +\n",
    "    geom_bar(stat = \"identity\", position = \"dodge\") +\n",
    "    ggtitle(\"Bar Chart of Location ID Counts showing Risk\") +\n",
    "    ylab(\"Location ID\") +\n",
    "    xlab(\"Count\") \n",
    "\n",
    "feature_plot3"
   ]
  },
  {
   "cell_type": "markdown",
   "metadata": {},
   "source": [
    "#### Plot 4: Bar Chart [Bar Chart of Score Variables and Corresponding Values showing Risk]\n",
    "This plot visualizes the distribution of different score values and their respective score variables."
   ]
  },
  {
   "cell_type": "code",
   "execution_count": null,
   "metadata": {},
   "outputs": [],
   "source": [
    "# feature_plot4 <- audit_tidy |>\n",
    "#   ggplot(aes(y = score_value, x = score_variable, fill = Risk)) +\n",
    "#     geom_bar(stat = \"identity\", position = \"stack\") +\n",
    "#     ggtitle(\"Bar Chart of Score Variables by Score Values showing Risk\") +\n",
    "#     ylab(\"Score Values\") +\n",
    "#     xlab(\"Score Variables\") \n",
    "\n",
    "# feature_plot4"
   ]
  },
  {
   "cell_type": "markdown",
   "metadata": {},
   "source": [
    "#### Plot 5: Bar Chart [Bar Chart of Discrepancy Variables and Corresponding Values showing Risk]\n",
    "The plot visualizes the distribution of different types of discrepancy and different discrepancy variables, which is the planned expenditure or non-planed expenditure."
   ]
  },
  {
   "cell_type": "code",
   "execution_count": null,
   "metadata": {
    "tags": []
   },
   "outputs": [],
   "source": [
    "# feature_plot5 <- audit_tidy |>\n",
    "#   ggplot(aes(y = discrepancy_value, x = discrepancy, fill = Risk)) +\n",
    "#     geom_bar(stat = \"identity\", position = \"stack\") +\n",
    "#     ggtitle(\"Bar Chart of Discrepancy Types and their Values showing Risk\") +\n",
    "#     ylab(\"Discrepancy Values\") +\n",
    "#     xlab(\"Discrepancy Variables\") \n",
    "\n",
    "# feature_plot5"
   ]
  },
  {
   "cell_type": "markdown",
   "metadata": {},
   "source": [
    "#### Plot 6: Bar Chart [Bar Chart of History vs District Loss]\n",
    "Shows the relationship between district loss and average historical loss."
   ]
  },
  {
   "cell_type": "code",
   "execution_count": null,
   "metadata": {
    "tags": []
   },
   "outputs": [],
   "source": [
    "feature_plot6 <- audit_tidy |> ggplot(aes(x = History, y = District_Loss, fill = Risk)) + geom_bar(stat= \"identity\", position=\"dodge\") +\n",
    "    ggtitle('Bar Chart of History vs District Loss') +\n",
    "    xlab('History (Average Historical Loss)') +\n",
    "    ylab('District Loss')\n",
    "\n",
    "feature_plot6"
   ]
  },
  {
   "cell_type": "markdown",
   "metadata": {},
   "source": [
    "### 2f. Train/Test Split\n",
    "We will now perform a 75% train test split on our data. "
   ]
  },
  {
   "cell_type": "code",
   "execution_count": null,
   "metadata": {
    "tags": []
   },
   "outputs": [],
   "source": [
    "risk_split <- initial_split(audit_tidy, prop = 0.75, strata = Risk)\n",
    "risk_train <- training(risk_split)\n",
    "risk_test <- testing(risk_split) "
   ]
  },
  {
   "cell_type": "markdown",
   "metadata": {
    "datalore": {
     "hide_input_from_viewers": true,
     "hide_output_from_viewers": true,
     "node_id": "nvslsIDT062r9VXRYjCa5r",
     "type": "MD"
    },
    "tags": []
   },
   "source": [
    "### 2g. Constructing and Fitting KNN Model\n",
    "\n",
    "As mentioned in the introduction, we will be using a KNN model. In this case, we will employ the `tidymodels` library to build our pipeline and specification. Before this, we can take a quick glimpse at the training data to see if there were any adverse effects of our tidying and feature engineering earlier."
   ]
  },
  {
   "cell_type": "code",
   "execution_count": null,
   "metadata": {
    "tags": []
   },
   "outputs": [],
   "source": [
    "glimpse(risk_train)\n",
    "glimpse(risk_test)"
   ]
  },
  {
   "cell_type": "markdown",
   "metadata": {},
   "source": [
    "We can now build our Model Specification. For our neighbors hyperparameter, we will choose $K = 3$ to begin with and tune it later on depending on our results. We also specify that we are using the kknn engine to form a discrete classification prediction rather than a continuous regression prediction."
   ]
  },
  {
   "cell_type": "code",
   "execution_count": null,
   "metadata": {},
   "outputs": [],
   "source": [
    "risk_recipe <- recipe(Risk ~ Inherent_Risk + Money_Value + TOTAL + History + LOCATION_ID, data = risk_train)\n",
    "risk_recipe\n",
    "\n",
    "risk_recipe <- risk_recipe |>\n",
    "  step_impute_mean(all_numeric_predictors()) |>\n",
    "  step_dummy(all_nominal(), -all_outcomes()) |>\n",
    "  step_scale(all_numeric_predictors()) |>\n",
    "  step_center(all_numeric_predictors())  \n",
    "risk_recipe\n",
    "\n",
    "# test_recipe <- recipe(Risk ~ TOTAL + Inherent_Risk + Money_Value + History + score_variable + score_value + LOCATION_ID, data = risk_test)\n",
    "# risk_recipe\n",
    "\n",
    "# test_recipe <- risk_recipe |>\n",
    "#   step_dummy(all_nominal(), -all_outcomes()) |>\n",
    "#   step_scale(all_numeric_predictors()) |>\n",
    "#   step_center(all_numeric_predictors()) \n",
    "# test_recipe"
   ]
  },
  {
   "cell_type": "code",
   "execution_count": null,
   "metadata": {
    "tags": []
   },
   "outputs": [],
   "source": [
    "knn_spec <- nearest_neighbor(weight_func = \"rectangular\", neighbors = 3) |>\n",
    "  set_engine(\"kknn\") |>\n",
    "  set_mode(\"classification\")\n",
    "knn_spec"
   ]
  },
  {
   "cell_type": "code",
   "execution_count": null,
   "metadata": {
    "tags": []
   },
   "outputs": [],
   "source": [
    "knn_fit <- workflow() |>\n",
    "      add_recipe(risk_recipe) |>\n",
    "      add_model(knn_spec) |>\n",
    "      fit(data = risk_train)\n",
    "\n",
    "knn_fit"
   ]
  },
  {
   "cell_type": "code",
   "execution_count": null,
   "metadata": {
    "tags": []
   },
   "outputs": [],
   "source": [
    "dim(risk_train)\n",
    "dim(risk_test)"
   ]
  },
  {
   "cell_type": "code",
   "execution_count": null,
   "metadata": {
    "tags": []
   },
   "outputs": [],
   "source": [
    "names(risk_train)\n",
    "names(risk_test)"
   ]
  },
  {
   "cell_type": "code",
   "execution_count": null,
   "metadata": {},
   "outputs": [],
   "source": [
    "risk_test_predictions <- predict(knn_fit, risk_test) |>\n",
    "    bind_cols(risk_test)\n",
    "\n",
    "risk_test_predictions"
   ]
  },
  {
   "cell_type": "markdown",
   "metadata": {},
   "source": [
    "# 3. Results and Model Evaluation"
   ]
  },
  {
   "cell_type": "code",
   "execution_count": null,
   "metadata": {
    "tags": []
   },
   "outputs": [],
   "source": [
    "risk_test_predictions |>\n",
    "  metrics(truth = Risk, estimate = .pred_class) |>\n",
    "  filter(.metric == \"accuracy\")"
   ]
  },
  {
   "cell_type": "code",
   "execution_count": null,
   "metadata": {
    "tags": []
   },
   "outputs": [],
   "source": [
    "confusion <- risk_test_predictions |>\n",
    "             conf_mat(truth = Risk, estimate = .pred_class)\n",
    "confusion"
   ]
  }
 ],
 "metadata": {
  "datalore": {
   "base_environment": "minimal",
   "computation_mode": "JUPYTER",
   "package_manager": "conda",
   "packages": [],
   "report_row_ids": [],
   "version": 3
  },
  "kernelspec": {
   "display_name": "R",
   "language": "R",
   "name": "ir"
  },
  "language_info": {
   "codemirror_mode": "r",
   "file_extension": ".r",
   "mimetype": "text/x-r-source",
   "name": "R",
   "pygments_lexer": "r",
   "version": "4.3.1"
  },
  "name": "Project Proposal.ipynb"
 },
 "nbformat": 4,
 "nbformat_minor": 4
}
