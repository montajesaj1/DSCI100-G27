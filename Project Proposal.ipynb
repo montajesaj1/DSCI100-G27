{
 "cells": [
  {
   "cell_type": "markdown",
   "source": [
    "# DSCI 100: Project Proposal \n",
    "### 1. Introduction"
   ],
   "attachments": {},
   "metadata": {
    "datalore": {
     "node_id": "fEU79KbQe30VUPlKHy0w3X",
     "type": "MD",
     "hide_input_from_viewers": true,
     "hide_output_from_viewers": true
    }
   }
  },
  {
   "cell_type": "code",
   "source": [
    "# libraries \n",
    "library(tidyverse)\n",
    "library(repr)\n",
    "library(tidymodels)\n",
    "options(repr.matrix.max.rows = 6)"
   ],
   "execution_count": null,
   "outputs": [],
   "metadata": {
    "datalore": {
     "node_id": "RqSSpC8YMDYXA0AGtFSzue",
     "type": "CODE",
     "hide_input_from_viewers": true,
     "hide_output_from_viewers": true
    },
    "is_executing": true
   }
  },
  {
   "cell_type": "markdown",
   "source": [
    "### 2. Preliminary EDA"
   ],
   "attachments": {},
   "metadata": {
    "datalore": {
     "node_id": "TJ3ujE2qIVRnwcgNcKiDR3",
     "type": "MD",
     "hide_input_from_viewers": true,
     "hide_output_from_viewers": true
    }
   }
  },
  {
   "cell_type": "code",
   "source": [
    "audit <- read_csv(\"audit_data/audit_risk.csv\") \n",
    "head(audit)"
   ],
   "execution_count": null,
   "outputs": [],
   "metadata": {
    "datalore": {
     "node_id": "arcoO8ygL1jTE4qGnY6KoN",
     "type": "CODE",
     "hide_input_from_viewers": true,
     "hide_output_from_viewers": true
    },
    "is_executing": true
   }
  },
  {
   "cell_type": "markdown",
   "source": [
    "### 3. Methods"
   ],
   "attachments": {},
   "metadata": {
    "datalore": {
     "node_id": "nvslsIDT062r9VXRYjCa5r",
     "type": "MD",
     "hide_input_from_viewers": true,
     "hide_output_from_viewers": true
    }
   }
  },
  {
   "cell_type": "markdown",
   "source": [
    "### 4. Expected Outcomes and Significance "
   ],
   "attachments": {},
   "metadata": {
    "datalore": {
     "node_id": "LMI8NBq4QOo4pfp1ZnhwA9",
     "type": "MD",
     "hide_input_from_viewers": true,
     "hide_output_from_viewers": true
    }
   }
  }
 ],
 "metadata": {
  "kernelspec": {
   "display_name": "R",
   "language": "r",
   "name": "ir"
  },
  "datalore": {
   "computation_mode": "JUPYTER",
   "package_manager": "conda",
   "base_environment": "minimal",
   "packages": [],
   "report_row_ids": [],
   "version": 3
  }
 },
 "nbformat": 4,
 "nbformat_minor": 4
}
