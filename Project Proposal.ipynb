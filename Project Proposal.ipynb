{
 "cells": [
  {
   "attachments": {},
   "cell_type": "markdown",
   "metadata": {
    "datalore": {
     "hide_input_from_viewers": true,
     "hide_output_from_viewers": true,
     "node_id": "fEU79KbQe30VUPlKHy0w3X",
     "type": "MD"
    }
   },
   "source": [
    "# DSCI 100: Project Proposal "
   ]
  },
  {
   "cell_type": "code",
   "execution_count": null,
   "metadata": {
    "datalore": {
     "hide_input_from_viewers": true,
     "hide_output_from_viewers": true,
     "node_id": "RqSSpC8YMDYXA0AGtFSzue",
     "type": "CODE"
    },
    "is_executing": true
   },
   "outputs": [],
   "source": [
    "# libraries \n",
    "library(tidyverse)\n",
    "library(repr)\n",
    "library(tidymodels)\n",
    "options(repr.matrix.max.rows = 6)"
   ]
  },
  {
   "cell_type": "markdown",
   "metadata": {},
   "source": [
    "### 1. Introduction\n",
    "\n",
    "Auditing is the examination of businesses financial records and the inspection that they align with standard accounting laws and principles (Hooda, 2018). Certain factors of a business or firm, such as historical discrepancy between a financial report and an audit inspection can help auditors identify those that are higher risk for fraudulent activity. This dataset contains information about 777 firms, each of which are either classified as “Fraud” firms, or “Non-fraud” firms. \n",
    "\n",
    "The dataset aims to aid in the auditing process, by providing insight into whether a particular firm is “high risk” (in which case auditors would want to visit the firm) or “low risk” (in which case auditors may skip visiting that firm). Some of the risk factors examined in the dataset include discrepancies in reports, historical discrepancy scores, and amounts of money involved in misstatements. With this dataset, we will implement a K-nearest-neighbors classification model to identify \"Fraud\" firms from unseen datasets."
   ]
  },
  {
   "attachments": {},
   "cell_type": "markdown",
   "metadata": {
    "datalore": {
     "hide_input_from_viewers": true,
     "hide_output_from_viewers": true,
     "node_id": "TJ3ujE2qIVRnwcgNcKiDR3",
     "type": "MD"
    }
   },
   "source": [
    "### 2. Preliminary EDA"
   ]
  },
  {
   "cell_type": "markdown",
   "metadata": {},
   "source": [
    "#### Feature Descriptions\n",
    "\n",
    "| **Inherent risk factors** |                                                                                                 |**Control risk factors**|                                                                                         |\n",
    "|-----------------------|-----------------------------------------------------------------------------------------------------|----------------------|-------------------------------------------------------------------------------------------|\n",
    "| *Feature*               | Information                                                                                       | *Feature*            | Information                                                                               |\n",
    "| Para A value          | Discrepancy found in the planned-expenditure of inspection and summary report A in Rs (in crore).   | Sector score         | Historical risk score value of the target-unit in the Table 1 using analytical procedure. |\n",
    "| Para B value          | Discrepancy found in the unplanned-expenditure of inspection and summary report B in Rs (in crore). | Loss                 | Amount of loss suffered by the firm last year.                                            |\n",
    "| Total                 | Total amount of discrepancy found in other reports Rs (in crore).                                   | History              | Average historical loss suffered by firm in the last 10¬†years.                           |\n",
    "| Number                | Historical discrepancy score.                                                                       | District score       | Historical risk score of a district in the last 10¬†years.                                |\n",
    "| Money value           | Amount of money involved in misstatements in the past audits.                                       |                      |                                                                                           |\n",
    "| **Other features**    |                                                                                                     |                      |                                                                                           |\n",
    "| *Feature*             | Information                                                                                         | *Feature*            | Information                                                                               |\n",
    "| Sector ID             | Unique ID of the target sector.                                                                     | Location ID          | Unique ID of the city/province.                                                           |\n",
    "| ARS                   | Total risk score using analytical procedure.                                                        | Audit ID             | Unique Id assigned to an audit case.                                                      |\n",
    "| Risk class            | Risk Class assigned to an audit-case. (Target Feature)                                              |                      |                                                                                           |"
   ]
  },
  {
   "cell_type": "code",
   "execution_count": null,
   "metadata": {
    "datalore": {
     "hide_input_from_viewers": true,
     "hide_output_from_viewers": true,
     "node_id": "arcoO8ygL1jTE4qGnY6KoN",
     "type": "CODE"
    },
    "is_executing": true
   },
   "outputs": [],
   "source": [
    "audit <- read_csv(\"audit_data/audit_risk.csv\") \n",
    "head(audit)"
   ]
  },
  {
   "attachments": {},
   "cell_type": "markdown",
   "metadata": {
    "datalore": {
     "hide_input_from_viewers": true,
     "hide_output_from_viewers": true,
     "node_id": "nvslsIDT062r9VXRYjCa5r",
     "type": "MD"
    }
   },
   "source": [
    "### 3. Methods"
   ]
  },
  {
   "attachments": {},
   "cell_type": "markdown",
   "metadata": {
    "datalore": {
     "hide_input_from_viewers": true,
     "hide_output_from_viewers": true,
     "node_id": "LMI8NBq4QOo4pfp1ZnhwA9",
     "type": "MD"
    }
   },
   "source": [
    "### 4. Expected Outcomes and Significance "
   ]
  }
 ],
 "metadata": {
  "datalore": {
   "base_environment": "minimal",
   "computation_mode": "JUPYTER",
   "package_manager": "conda",
   "packages": [],
   "report_row_ids": [],
   "version": 3
  },
  "kernelspec": {
   "display_name": "R",
   "language": "r",
   "name": "ir"
  }
 },
 "nbformat": 4,
 "nbformat_minor": 4
}
